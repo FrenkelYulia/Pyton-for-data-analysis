{
 "cells": [
  {
   "cell_type": "code",
   "execution_count": null,
   "metadata": {},
   "outputs": [],
   "source": [
    "'''Смоделировать игру против лотерейного автомата типа “777”. Игрок платит 1 руб., после чего выпадает случайное целое число,\n",
    "равномерно распределенное от 0 до 999. При некоторых значениях числа игрок получает выигрыш (см. справа)\n",
    "\n",
    "Выгодна ли игра игроку?\n",
    "\n",
    "Сколько в среднем приобретает\n",
    "или теряет игрок за одну игру?\n",
    "\n",
    "777: 200 руб.\n",
    "999: 100 руб.\n",
    "555: 50 руб.\n",
    "333: 15 руб.\n",
    "111: 10 руб.\n",
    "*77: 5 руб.\n",
    "**7: 3 руб.\n",
    "*00: 2 руб.\n",
    "**0: 1 руб.\n",
    "\n",
    "– любая цифра'''"
   ]
  },
  {
   "cell_type": "code",
   "execution_count": 7,
   "metadata": {},
   "outputs": [],
   "source": [
    "import numpy as np"
   ]
  },
  {
   "cell_type": "code",
   "execution_count": 27,
   "metadata": {},
   "outputs": [
    {
     "name": "stdout",
     "output_type": "stream",
     "text": [
      "8012727 10000000 0.8012727\n"
     ]
    }
   ],
   "source": [
    "# np.random.seed(None)\n",
    "trials = 10000000    # Количество попыток\n",
    "successes = 0    # Количество успехов\n",
    "\n",
    "for i in range(trials):\n",
    "    random_score = np.random.randint(0, 1000)    # Случайное количество очков от 0 до 999\n",
    "    if random_score % 10==0:\n",
    "        if random_score %100==0:\n",
    "            successes += 2\n",
    "        else:\n",
    "            successes += 1 \n",
    "            \n",
    "    if random_score%10==7:\n",
    "        if random_score%100==77:\n",
    "            if random_score==777:\n",
    "                successes+=200\n",
    "            else:\n",
    "                successes += 5\n",
    "        else:\n",
    "            successes += 3\n",
    "    \n",
    "    if random_score ==111:\n",
    "        successes += 10\n",
    "    if random_score == 333:\n",
    "        successes += 15\n",
    "    if random_score == 555:\n",
    "        successes += 50   \n",
    "    if random_score == 999:\n",
    "        successes += 100     \n",
    "p_monte_carlo = successes / trials    # Вероятность из моделирования\n",
    "                        \n",
    "\n",
    "print(successes, trials, p_monte_carlo)"
   ]
  },
  {
   "cell_type": "code",
   "execution_count": 29,
   "metadata": {},
   "outputs": [
    {
     "data": {
      "text/plain": [
       "0.8"
      ]
     },
     "execution_count": 29,
     "metadata": {},
     "output_type": "execute_result"
    }
   ],
   "source": [
    "200*1/1000+100*1/1000+50*1/1000+15*1/1000+10*1/1000+5*9/1000+2*10/1000+3*90/1000+90/1000"
   ]
  },
  {
   "cell_type": "code",
   "execution_count": null,
   "metadata": {},
   "outputs": [],
   "source": [
    "#Вывод - играть с этим автоматом не выгодно. Игрок в среднем теряет за одну игру 0.2 рубля"
   ]
  }
 ],
 "metadata": {
  "kernelspec": {
   "display_name": "Python 3",
   "language": "python",
   "name": "python3"
  },
  "language_info": {
   "codemirror_mode": {
    "name": "ipython",
    "version": 3
   },
   "file_extension": ".py",
   "mimetype": "text/x-python",
   "name": "python",
   "nbconvert_exporter": "python",
   "pygments_lexer": "ipython3",
   "version": "3.8.5"
  }
 },
 "nbformat": 4,
 "nbformat_minor": 4
}
