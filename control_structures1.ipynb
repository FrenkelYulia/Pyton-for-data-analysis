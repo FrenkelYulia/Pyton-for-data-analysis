{
 "cells": [
  {
   "cell_type": "code",
   "execution_count": 20,
   "metadata": {},
   "outputs": [
    {
     "name": "stdout",
     "output_type": "stream",
     "text": [
      "t\n"
     ]
    }
   ],
   "source": [
    "#Задание 1\n",
    "word='testing'\n",
    "l=len(word)\n",
    "if l%2!=0:\n",
    "    midl=l//2\n",
    "    print (word[midl])\n",
    "else:\n",
    "    midl=(l//2)-1\n",
    "    print(word[midl:midl+2])\n"
   ]
  },
  {
   "cell_type": "code",
   "execution_count": 10,
   "metadata": {},
   "outputs": [
    {
     "name": "stdout",
     "output_type": "stream",
     "text": [
      "Введите число:1\n",
      "Введите число:4\n",
      "Введите число:6\n",
      "Введите число:0\n",
      "11\n"
     ]
    }
   ],
   "source": [
    "#Задание 2\n",
    "s=0\n",
    "x=1\n",
    "while x !=0:\n",
    "    x= int(input ('Введите число:'))\n",
    "    s=s+x\n",
    "print (s)\n",
    "    \n",
    "    "
   ]
  },
  {
   "cell_type": "code",
   "execution_count": 35,
   "metadata": {},
   "outputs": [
    {
     "name": "stdout",
     "output_type": "stream",
     "text": [
      "Идеальные пары\n",
      " Alex, Emma\n",
      " Arthur, Kate\n",
      " John, Kira\n",
      " Peter, Liza\n",
      " Richard, Trisha\n"
     ]
    }
   ],
   "source": [
    "# Задание 3 \n",
    "boys = ['Peter', 'Alex', 'John', 'Arthur', 'Richard']\n",
    "girls = ['Kate', 'Liza', 'Kira', 'Emma', 'Trisha']\n",
    "\n",
    "lb=len(boys)\n",
    "lg=len(girls)\n",
    "\n",
    "if (lb==lg):\n",
    "    boys=sorted(boys)\n",
    "    girls=sorted(girls)  \n",
    "    couples = zip(boys, girls)\n",
    "    couples=list(couples)\n",
    "    print('Идеальные пары:')\n",
    "    for i in range(len(couples)):\n",
    "        print(f' {couples[i][0]}, {couples[i][1]}')\n",
    "else:\n",
    "     print('Внимание, кто то может остаться без пары')\n"
   ]
  },
  {
   "cell_type": "code",
   "execution_count": 70,
   "metadata": {},
   "outputs": [
    {
     "name": "stdout",
     "output_type": "stream",
     "text": [
      "Thailand 23.9 C\n",
      "Germany 13.8 C\n",
      "Russia 3.7 C\n",
      "Poland 12.0 C\n"
     ]
    }
   ],
   "source": [
    "# Задание 4\n",
    "countries_temperature = [\n",
    "    ['Thailand', [75.2, 77, 78.8, 73.4, 68, 75.2, 77]],\n",
    "    ['Germany', [57.2, 55.4, 59, 59, 53.6]],\n",
    "    ['Russia', [35.6, 37.4, 39.2, 41, 42.8, 39.2, 35.6]],\n",
    "    ['Poland', [50, 50, 53.6, 57.2, 55.4, 55.4]]\n",
    "]\n",
    "\n",
    "for i in range(len(countries_temperature)): \n",
    "    for j in range (len(countries_temperature[i][1])):\n",
    "            countries_temperature[i][1][j]=5/9*(countries_temperature[i][1][j]-32)\n",
    "\n",
    "for country in countries_temperature:\n",
    "    print(country[0], round(sum(country[1])/len(country[1]),1), 'C')\n",
    "\n",
    "\n"
   ]
  },
  {
   "cell_type": "code",
   "execution_count": 197,
   "metadata": {},
   "outputs": [
    {
     "name": "stdout",
     "output_type": "stream",
     "text": [
      "Среднее количество просмотров на уникального пользователя: 23.25\n"
     ]
    }
   ],
   "source": [
    "#Задание 5 (необязательное)\n",
    "stream = [\n",
    "    '2018-01-01,user1,3',\n",
    "    '2018-01-07,user1,4',\n",
    "    '2018-03-29,user1,1',\n",
    "    '2018-04-04,user1,13',\n",
    "    '2018-01-05,user2,7',\n",
    "    '2018-06-14,user3,4',\n",
    "    '2018-07-02,user3,10',\n",
    "    '2018-03-21,user4,19',\n",
    "    '2018-03-22,user4,4',\n",
    "    '2018-04-22,user4,8',\n",
    "    '2018-05-03,user4,9',\n",
    "    '2018-05-11,user4,11'\n",
    "]\n",
    "s=0\n",
    "for i in range(len(stream)):\n",
    "    index=stream[i].rfind(',')\n",
    "    s=s+int(stream[i][index+1:])\n",
    "\n",
    "stream_user=''\n",
    "for i in range(len(stream)):\n",
    "    stream_user=stream_user+stream[i][index-1:index]\n",
    "\n",
    "k=s/len(set(stream_user))\n",
    "print ('Среднее количество просмотров на уникального пользователя:', k)"
   ]
  },
  {
   "cell_type": "code",
   "execution_count": 204,
   "metadata": {},
   "outputs": [
    {
     "name": "stdout",
     "output_type": "stream",
     "text": [
      "Enter integers:1 5 2 5 \n",
      "[1, 2, 5, 5]\n"
     ]
    }
   ],
   "source": [
    "#Задание 6 (необязательное)\n",
    "int_list = [int(x) for x in input(\"Введите числа:\").split()]\n",
    "int_list=sorted(int_list)\n",
    "print(int_list)"
   ]
  },
  {
   "cell_type": "code",
   "execution_count": null,
   "metadata": {},
   "outputs": [],
   "source": []
  }
 ],
 "metadata": {
  "kernelspec": {
   "display_name": "Python 3",
   "language": "python",
   "name": "python3"
  },
  "language_info": {
   "codemirror_mode": {
    "name": "ipython",
    "version": 3
   },
   "file_extension": ".py",
   "mimetype": "text/x-python",
   "name": "python",
   "nbconvert_exporter": "python",
   "pygments_lexer": "ipython3",
   "version": "3.8.5"
  }
 },
 "nbformat": 4,
 "nbformat_minor": 4
}
