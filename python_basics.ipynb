{
 "cells": [
  {
   "cell_type": "code",
   "execution_count": 3,
   "metadata": {},
   "outputs": [
    {
     "name": "stdout",
     "output_type": "stream",
     "text": [
      "введите первую фразу'Насколько проще было бы писать программы, если бы не заказчики\n",
      "введите вторую фразу'Насколько проще было бы писать программы, если бы не заказчики\n",
      "Фразы равной длины\n"
     ]
    }
   ],
   "source": [
    "#Задание 1\n",
    "phrase_1 = input('введите первую фразу')\n",
    "phrase_2 = input ('введите вторую фразу')\n",
    "if len(phrase_1) > len(phrase_2):\n",
    "    print ('Фраза 1 длиннее фразы 2')\n",
    "elif len(phrase_1) < len(phrase_2):\n",
    "        print ('Фраза 2 длиннее фразы 1')\n",
    "else :\n",
    "    print ('Фразы равной длины')"
   ]
  },
  {
   "cell_type": "code",
   "execution_count": 4,
   "metadata": {},
   "outputs": [
    {
     "name": "stdout",
     "output_type": "stream",
     "text": [
      "введите год2020\n",
      "високосный\n"
     ]
    }
   ],
   "source": [
    "#Задание 2\n",
    "y=int(input('введите год'))\n",
    "if y%4!=0 or (y%100==0 and y%400!=0):\n",
    "    print ('обычный')\n",
    "\n",
    "else:\n",
    "    print('високосный')\n",
    "          \n",
    "       "
   ]
  },
  {
   "cell_type": "code",
   "execution_count": 22,
   "metadata": {},
   "outputs": [
    {
     "name": "stdout",
     "output_type": "stream",
     "text": [
      "введите день:10\n",
      "введите месяц:июнь\n",
      "Ваш знак зодиака: близнецы\n"
     ]
    }
   ],
   "source": [
    "#Задание 3\n",
    "d = int(input('введите день:'))\n",
    "m = input ('введите месяц:')\n",
    "if (m=='март' and d >= 21 and d<=31) or (m=='апрель' and d >= 1 and d <= 20):\n",
    "    print ('Ваш знак зодиака: овен')\n",
    "elif(m=='апрель' and d >= 21 and d<=30)or (m=='май' and d>= 1 and d <= 21):\n",
    "    print ('Ваш знак зодиака: телец')\n",
    "elif (m=='май' and d>=22 and d<=31) or (m=='июнь' and d>=1 and d<=21):\n",
    "    print ('Ваш знак зодиака: близнецы')\n",
    "elif (m=='июнь' and d>=22 and d<=30) or (m=='июль' and d>=1 and d<=22 ):\n",
    "    print ('Ваш знак зодиака: рак')\n",
    "elif (m=='июль' and d>=23 and d<=31) or (m=='август' and d>=1 and d<=22):\n",
    "    ptint ('Ваш знак зодиака: лев')\n",
    "elif (m=='август' and d>=23 and d<=31) or (m=='сентябрь' and d>=1 and d<=22):\n",
    "    print ('Ваш знак зодиака: дева')\n",
    "elif (m=='сентябрь'and d>=23 and d<=30) or (m=='октябрь' and d>=1 and d<=22):\n",
    "    print ('Ваш знак зодиака: весы')\n",
    "elif (m=='октябрь'and d>=23 and d<=31) or (m=='ноябрь' and d>=1 and d<=22):\n",
    "    print ('Ваш знак зодиака: скорпион')\n",
    "elif (m=='ноябрь'and d>=23 and d<=30) or (m=='декабрь' and d>=1 and d<=21):\n",
    "    print ('Ваш знак зодиака: стрелец')\n",
    "elif (m=='декабрь'and d>=22 and d<=31) or (m=='январь' and d>=1 and d<=20):\n",
    "    print ('Ваш знак зодиака: козерог')\n",
    "elif (m=='январь'and d>=21 and d<=30) or (m=='февраль' and d>=1 and d<=19):\n",
    "    print ('Ваш знак зодиака: водолей')\n",
    "elif (m=='февраль'and d>=20 and d<=30) or (m=='март' and d>=1 and d<=20):\n",
    "    print ('Ваш знак зодиака: рыбы')\n",
    "else:\n",
    "    print ('Вы ввели неправильную дату')\n",
    "\n",
    "\n"
   ]
  },
  {
   "cell_type": "code",
   "execution_count": 2,
   "metadata": {},
   "outputs": [
    {
     "name": "stdout",
     "output_type": "stream",
     "text": [
      "введите ширину:14\n",
      "введите длину:12\n",
      "введите высоту:10\n",
      "Коробка №1\n"
     ]
    }
   ],
   "source": [
    "#Задание 4\n",
    "width = int(input('введите ширину:'))\n",
    "length = int(input('введите длину:'))\n",
    "height=int(input ('введите высоту:'))\n",
    "if width<15 and length<15 and height<15:\n",
    "    print('Коробка №1')\n",
    "elif (width<50 and width>15) or (length<50 and length>15) or (heigth<50 and heigth>15):\n",
    "    print ('Коробка №2')\n",
    "elif length>200:\n",
    "    print ('Коробка для лыж')\n",
    "else:\n",
    "    print('Стандартная коробк №3')"
   ]
  },
  {
   "cell_type": "code",
   "execution_count": 6,
   "metadata": {},
   "outputs": [
    {
     "name": "stdout",
     "output_type": "stream",
     "text": [
      "введите шестизначное число:123123\n",
      "счастливый билет\n"
     ]
    }
   ],
   "source": [
    "#Задание 5 (необязательное)\n",
    "number=int(input('введите шестизначное число:'))\n",
    "if (number//100000+(number//10000)%10+(number//1000)%10)==((number//100)%10+(number//10)%10+number%10):\n",
    "    print ('счастливый билет')\n",
    "else:\n",
    "    print('несчастливый билет')\n"
   ]
  },
  {
   "cell_type": "code",
   "execution_count": 15,
   "metadata": {},
   "outputs": [
    {
     "name": "stdout",
     "output_type": "stream",
     "text": [
      "введите форму фигуры:треугольник\n",
      "введите длину стороны А:2\n",
      "введите длину стороны В:2\n",
      "введите длину стороны С:3\n",
      "площадь треугольника 1.984313483298443\n"
     ]
    }
   ],
   "source": [
    "#Задание 6 (необязательное)\n",
    "form=input('введите форму фигуры:')\n",
    "if form=='круг':\n",
    "    r=int(input('введите радиус круга:'))\n",
    "    s=(r**2)*3.14\n",
    "    print('площадь круга:', s)\n",
    "elif form=='прямоугольник':\n",
    "    a=int(input('введите длину'))\n",
    "    b=int(input('введите ширину'))\n",
    "    s=a*b\n",
    "    print('площадь прямоугольника:',s)\n",
    "else:\n",
    "    a=int(input('введите длину стороны А:'))\n",
    "    b=int(input('введите длину стороны В:'))\n",
    "    c=int(input('введите длину стороны С:'))\n",
    "    p=(a+b+c)/2\n",
    "    s=(p*(p-a)*(p-b)*(p-c))**(1/2)\n",
    "    print('площадь треугольника',s)"
   ]
  },
  {
   "cell_type": "code",
   "execution_count": null,
   "metadata": {},
   "outputs": [],
   "source": []
  }
 ],
 "metadata": {
  "kernelspec": {
   "display_name": "Python 3",
   "language": "python",
   "name": "python3"
  },
  "language_info": {
   "codemirror_mode": {
    "name": "ipython",
    "version": 3
   },
   "file_extension": ".py",
   "mimetype": "text/x-python",
   "name": "python",
   "nbconvert_exporter": "python",
   "pygments_lexer": "ipython3",
   "version": "3.8.5"
  }
 },
 "nbformat": 4,
 "nbformat_minor": 4
}
