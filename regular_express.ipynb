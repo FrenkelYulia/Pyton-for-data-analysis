{
 "cells": [
  {
   "cell_type": "code",
   "execution_count": 22,
   "metadata": {},
   "outputs": [],
   "source": [
    "#Задание 1\n",
    "'''Напишите функцию, которая принимает на вход строку и проверяет является ли она валидным транспортным номером \n",
    "(1 буква, 3 цифры, 2 буквы, 2-3 цифры). Обратите внимание, что не все буквы кириллического алфавита используются \n",
    "в транспортных номерах.\n",
    "\n",
    "Если номер валиден, то функция должна возвращать отдельно номер и регион.'''\n",
    "import re\n",
    "def transport_number (number):\n",
    "    k=0\n",
    "    number_pattern = r'([АВЕКМНОРСТУХ]{1})(\\d{3})([АВЕКМНОРСТУХ]{2})(\\d{2,3})'\n",
    "    if re.match(number_pattern, number):\n",
    "        k = re.match(number_pattern, number)\n",
    "        print ('Номер {} валиден. Регион:{}'.format(number, k.group(4)))\n",
    "    else:\n",
    "        print('Номер не валиден')\n"
   ]
  },
  {
   "cell_type": "code",
   "execution_count": 23,
   "metadata": {},
   "outputs": [
    {
     "name": "stdout",
     "output_type": "stream",
     "text": [
      "Номер А222ВС96 валиден. Регион:96\n"
     ]
    }
   ],
   "source": [
    "transport_number ('А222ВС96')"
   ]
  },
  {
   "cell_type": "code",
   "execution_count": 34,
   "metadata": {},
   "outputs": [
    {
     "data": {
      "text/plain": [
       "'Напишите функцию, которая будет удалять все последовательные повторы слов из заданной строки при помощи регулярных выражений'"
      ]
     },
     "execution_count": 34,
     "metadata": {},
     "output_type": "execute_result"
    }
   ],
   "source": [
    "# Задание 2\n",
    "'''Напишите функцию, которая будет удалять все последовательные повторы слов из заданной строки при помощи регулярных выражений.\n",
    "\n",
    "Пример работы программы:\n",
    "\n",
    "some_string = 'Напишите функцию функцию, которая будет будет будет будет удалять все все все все последовательные повторы слов\n",
    "из из из из заданной строки строки при помощи регулярных выражений'\n",
    "\n",
    "Результат: Напишите функцию, которая будет удалять все последовательные повторы слов из заданной строки при помощи регулярных\n",
    "выражений.'''\n",
    "import re\n",
    "some_string = 'Напишите функцию функцию, которая будет будет будет будет удалять все все все все последовательные повторы слов из из из из заданной строки строки при помощи регулярных выражений'\n",
    "def delete (some_string):\n",
    "    stroka= re.sub(r'\\b([^\\W]+)(\\s+\\1)+\\b', r'\\1', some_string )\n",
    "    return  stroka \n",
    "delete (some_string)"
   ]
  },
  {
   "cell_type": "code",
   "execution_count": 14,
   "metadata": {},
   "outputs": [
    {
     "name": "stdout",
     "output_type": "stream",
     "text": [
      "NFC\n"
     ]
    }
   ],
   "source": [
    "#Задание 3\n",
    "'''Напишите функцию, которая будет возвращать акроним по переданной в нее строке со словами.\n",
    "\n",
    "Примеры работы программы:\n",
    "\n",
    "some_words = 'Информационные технологии'\n",
    "Результат: ИТ\n",
    "\n",
    "some_words = 'Near Field Communication'\n",
    "Результат: NFC'''\n",
    "\n",
    "import re\n",
    "def acronim (some_words):\n",
    "    leter = re.findall(r'(\\w)\\w+', some_words)\n",
    "    acronim = ''.join(leter)\n",
    "    print(acronim)\n",
    "    \n",
    "    \n",
    "some_words = 'Near Field Communication'    \n",
    "acronim (some_words)"
   ]
  },
  {
   "cell_type": "code",
   "execution_count": 21,
   "metadata": {},
   "outputs": [
    {
     "name": "stdout",
     "output_type": "stream",
     "text": [
      "gmail.com: 2\n",
      "test.in: 1\n",
      "ya.ru: 2\n",
      "mail.ru: 1\n"
     ]
    }
   ],
   "source": [
    "#Задание 4\n",
    "'''Напишите функцию, которая будет принимать на вход список email-адресов и выводить их распределение по доменным зонам.\n",
    "\n",
    "Пример работы программы:\n",
    "\n",
    "emails = ['test@gmail.com, xyz@test.in, test@ya.ru, xyz@mail.ru, xyz@ya.ru', xyz@gmail.com]\n",
    "\n",
    "Результат:\n",
    "\n",
    "gmail.com: 2\n",
    "test.in: 1 \n",
    "ya.ru: 2 \n",
    "mail.ru: 1'''\n",
    "\n",
    "import re\n",
    "emeils = ['test@gmail.com', 'xyz@test.in', 'test@ya.ru', 'xyz@mail.ru', 'xyz@ya.ru', 'xyz@gmail.com']\n",
    "def domen(emails):\n",
    "    gmail_pattern = r'@gmail\\.com'\n",
    "    ya_pattern = r'@ya\\.ru'\n",
    "    test_pattern = r'@test\\.in'\n",
    "    mail_pattern = r'@mail\\.ru'\n",
    "    gmail = 0\n",
    "    ya = 0\n",
    "    test = 0\n",
    "    mail = 0\n",
    "    for mails in emeils:\n",
    "        if re.findall(gmail_pattern,mails):\n",
    "            gmail+=1\n",
    "        if re.findall(ya_pattern,mails):\n",
    "            ya+=1\n",
    "        if re.findall(test_pattern,mails):\n",
    "            test+=1\n",
    "        if re.findall(mail_pattern,mails):\n",
    "            mail+=1\n",
    "    print('gmail.com:',  gmail)\n",
    "    print('test.in:', test)\n",
    "    print('ya.ru:', ya)\n",
    "    print('mail.ru:', mail)\n",
    "    \n",
    "domen(emeils)"
   ]
  },
  {
   "cell_type": "code",
   "execution_count": 20,
   "metadata": {},
   "outputs": [
    {
     "name": "stdout",
     "output_type": "stream",
     "text": [
      "Слов на гласные буквы: 9\n",
      "Слов на согласные буквы: 21\n"
     ]
    }
   ],
   "source": [
    "#Задание 5 (необязательное)\n",
    "\n",
    "'''Напишите функцию, которая будет подсчитывать сколько слов начинается на гласные,\n",
    "а сколько на согласные буквы в тексте (текст может быть написан как с использованием букв кириллицы, так и латиницы).\n",
    "\n",
    "Пример работы программы:\n",
    "\n",
    "some_text = ‘Эталонной реализацией Python является интерпретатор CPython, поддерживающий большинство активно используемых \n",
    "платформ. Он распространяется под свободной лицензией Python Software Foundation License, позволяющей использовать его \n",
    "без ограничений в любых приложениях, включая проприетарные.’\n",
    "\n",
    "Результат:\n",
    "\n",
    "Слов на гласные буквы: 9\n",
    "Слов на согласные буквы: 21'''\n",
    "import re\n",
    "some_text = 'Эталонной реализацией Python является интерпретатор CPython, поддерживающий большинство активно используемых платформ. Он распространяется под свободной лицензией Python Software Foundation License, позволяющей использовать его без ограничений в любых приложениях, включая проприетарные.'\n",
    "def palabras(some_text):\n",
    "    vocal_pattern = r'\\b[aeiouAEIOUаеиоуыёэюяАЕИОУЫЭЮЯЁ]\\w+'\n",
    "    vocal_words=len(re.findall (vocal_pattern, some_text))\n",
    "    spisok = len(some_text.split(' '))\n",
    "    print('Слов на гласные буквы:',vocal_words)\n",
    "    print('Слов на согласные буквы:', spisok-vocal_words)\n",
    "    \n",
    "palabras(some_text)"
   ]
  },
  {
   "cell_type": "code",
   "execution_count": null,
   "metadata": {},
   "outputs": [],
   "source": []
  }
 ],
 "metadata": {
  "kernelspec": {
   "display_name": "Python 3",
   "language": "python",
   "name": "python3"
  },
  "language_info": {
   "codemirror_mode": {
    "name": "ipython",
    "version": 3
   },
   "file_extension": ".py",
   "mimetype": "text/x-python",
   "name": "python",
   "nbconvert_exporter": "python",
   "pygments_lexer": "ipython3",
   "version": "3.8.5"
  }
 },
 "nbformat": 4,
 "nbformat_minor": 4
}
