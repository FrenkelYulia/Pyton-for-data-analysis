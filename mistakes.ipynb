{
 "cells": [
  {
   "cell_type": "code",
   "execution_count": 5,
   "metadata": {},
   "outputs": [],
   "source": [
    "#Задание 1\n",
    "'''Печатные газеты использовали свой формат дат для каждого выпуска. Для каждой газеты из списка напишите формат \n",
    "указанной даты для перевода в объект datetime:\n",
    "The Moscow Times - Wednesday, October 2, 2002\n",
    "The Guardian - Friday, 11.10.13\n",
    "Daily News - Thursday, 18 August 1977'''\n",
    "\n",
    "from datetime import datetime\n",
    "datetime_Moscow_Times  = datetime.strptime('Wednesday, October 2, 2002', '%A, %B %d, %Y')\n",
    "datetime_Guardian = datetime.strptime('Friday, 11.10.13', '%A, %d.%m.%y')\n",
    "datetime_Daily_News = datetime.strptime('Thursday, 18 August 1977', '%A, %d %B %Y')"
   ]
  },
  {
   "cell_type": "code",
   "execution_count": 22,
   "metadata": {},
   "outputs": [
    {
     "data": {
      "text/plain": [
       "[['2018-04-02', True], ['2018-02-29', False], ['2018-19-02', False]]"
      ]
     },
     "execution_count": 22,
     "metadata": {},
     "output_type": "execute_result"
    }
   ],
   "source": [
    "#Задание 2\n",
    "'''Дан поток дат в формате YYYY-MM-DD, в которых встречаются некорректные значения:\n",
    "stream = [‘2018-04-02’, ‘2018-02-29’, ‘2018-19-02’]\n",
    "\n",
    "Напишите функцию, которая проверяет эти даты на корректность. Т. е. для каждой даты возвращает\n",
    "True (дата корректна) или False (некорректная дата)'''\n",
    "\n",
    "from datetime import datetime\n",
    "def date_control (*dates):\n",
    "    s=[]\n",
    "    for date in dates:\n",
    "        try:\n",
    "            date_datetime = datetime.strptime(date, '%Y-%m-%d')\n",
    "            s.append([date,True])\n",
    "        except:\n",
    "            s.append([date,False])\n",
    "    return(s)\n",
    "        \n",
    "date_control('2018-04-02', '2018-02-29', '2018-19-02')   \n",
    "    \n"
   ]
  },
  {
   "cell_type": "code",
   "execution_count": 31,
   "metadata": {},
   "outputs": [
    {
     "data": {
      "text/plain": [
       "['1974-06-01',\n",
       " '1974-06-02',\n",
       " '1974-06-03',\n",
       " '1974-06-04',\n",
       " '1974-06-05',\n",
       " '1974-06-06',\n",
       " '1974-06-07',\n",
       " '1974-06-08',\n",
       " '1974-06-09',\n",
       " '1974-06-10',\n",
       " '1974-06-11']"
      ]
     },
     "execution_count": 31,
     "metadata": {},
     "output_type": "execute_result"
    }
   ],
   "source": [
    "#Задание 3\n",
    "'''Напишите функцию date_range, которая возвращает список дат за период от start_date до end_date. Даты должны вводиться в формате YYYY-MM-DD. \n",
    "В случае неверного формата или при start_date > end_date должен возвращаться пустой список.'''\n",
    "from datetime import datetime\n",
    "from datetime import timedelta\n",
    "def date_range (start_date, end_date):\n",
    "    s=[]\n",
    "    try:\n",
    "        start_date_dt = datetime.strptime(start_date, '%Y-%m-%d')\n",
    "        end_date_dt = datetime.strptime(end_date, '%Y-%m-%d')\n",
    "        if end_date_dt > start_date_dt:\n",
    "            current_dt = start_date_dt\n",
    "            while current_dt <= end_date_dt:\n",
    "                s.append(current_dt.strftime('%Y-%m-%d'))\n",
    "                current_dt += timedelta(days=1)\n",
    "        else:\n",
    "            s=[]\n",
    "    except:\n",
    "            s=[]\n",
    "            \n",
    "    return(s)\n",
    "\n",
    "date_range ( '1974-06-1','1974-06-11')\n",
    "    "
   ]
  },
  {
   "cell_type": "code",
   "execution_count": null,
   "metadata": {},
   "outputs": [],
   "source": []
  }
 ],
 "metadata": {
  "kernelspec": {
   "display_name": "Python 3",
   "language": "python",
   "name": "python3"
  },
  "language_info": {
   "codemirror_mode": {
    "name": "ipython",
    "version": 3
   },
   "file_extension": ".py",
   "mimetype": "text/x-python",
   "name": "python",
   "nbconvert_exporter": "python",
   "pygments_lexer": "ipython3",
   "version": "3.8.5"
  }
 },
 "nbformat": 4,
 "nbformat_minor": 4
}
