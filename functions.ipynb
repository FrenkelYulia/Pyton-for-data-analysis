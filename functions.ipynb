{
 "cells": [
  {
   "cell_type": "code",
   "execution_count": 4,
   "metadata": {},
   "outputs": [],
   "source": [
    "documents = [\n",
    " {'type': 'passport', 'number': '2207 876234', 'name': 'Василий Гупкин'},\n",
    " {'type': 'invoice', 'number': '11-2', 'name': 'Геннадий Покемонов'},\n",
    " {'type': 'insurance', 'number': '10006', 'name': 'Аристарх Павлов'}\n",
    "]\n",
    "directories = {\n",
    " '1': ['2207 876234', '11-2'],\n",
    " '2': ['10006'],\n",
    " '3': []\n",
    "}"
   ]
  },
  {
   "cell_type": "code",
   "execution_count": 5,
   "metadata": {},
   "outputs": [],
   "source": [
    "# функция определения владельца документа по его номеру\n",
    "def owner_document(owner_number):\n",
    "    counter = 0\n",
    "    while counter != len(documents):\n",
    "        if documents[counter]['number'] == owner_number:\n",
    "            print(\"Владелец документа:\", documents[counter]['name'])\n",
    "            break\n",
    "        counter += 1\n",
    "        if counter == len(documents):\n",
    "            print(\"Документ не найден в базе\")\n",
    " "
   ]
  },
  {
   "cell_type": "code",
   "execution_count": 6,
   "metadata": {},
   "outputs": [],
   "source": [
    "# функция определения номера полки\n",
    "def number_directories(shelf_number):\n",
    "    counter = 0 \n",
    "    for shelf, values in directories.items():\n",
    "        for i in values:\n",
    "            if i == shelf_number:\n",
    "                print('Документ хранится на полке', shelf)\n",
    "                return str(shelf)\n",
    "                break\n",
    "            counter += 1\n",
    "    if counter==len(directories):\n",
    "        print(\"Документ не найден в базе\")\n",
    "        "
   ]
  },
  {
   "cell_type": "code",
   "execution_count": 7,
   "metadata": {},
   "outputs": [],
   "source": [
    "\n",
    "#def number_directories(shelf_number):\n",
    "    #for shelf, values in directories.items():\n",
    "        #for i in values:\n",
    "            #if i == shelf_number:\n",
    "                #return str(shelf)\n",
    "def ioio():\n",
    "    for i in range(len(documents)):\n",
    "        print(\"№:\"+documents[i]['number'] + \", тип: \" + documents[i][\"type\"]+\", владелец: \" + documents[i][\"name\"]+\", полка хранения: \" + str(number_directories(documents[i]['number'])))\n",
    "\n",
    "\n",
    "    \n"
   ]
  },
  {
   "cell_type": "code",
   "execution_count": 8,
   "metadata": {},
   "outputs": [],
   "source": [
    "\n",
    "def add_shelf(number_shelf):\n",
    "    counter=0\n",
    "    for i in directories.keys():\n",
    "        if i == number_shelf:\n",
    "            print('Такая полка уже существует.Текущий перечень полок:', \" \".join(list(directories.keys())))\n",
    "            break\n",
    "        counter+=1\n",
    "    if counter==len(directories):  \n",
    "        directories[number_shelf]=[]\n",
    "        print('Полка добавлена. Текущий перечень полок:', \" \".join(list(directories.keys())))\n"
   ]
  },
  {
   "cell_type": "code",
   "execution_count": 9,
   "metadata": {},
   "outputs": [],
   "source": [
    "\n",
    "def del_shelf(number_shelf):\n",
    "    counter=0\n",
    "    for keys, values in directories.items():\n",
    "        if keys == number_shelf:\n",
    "            if len(values) != 0: \n",
    "                print('На полке есть документы, удалите их перед удалением полки. Текущий перечень полок:', \" \".join(list(directories.keys())))\n",
    "            else:\n",
    "                del(directories[keys])\n",
    "                print('Полка удалена. Текущий перечень полок:', \" \".join(list(directories.keys()))) \n",
    "            \n",
    "            break\n",
    "        counter+=1\n",
    "    if counter==len(directories)+1:\n",
    "        print('Такой полки не существует. Текущий перечень полок:', \" \".join(list(directories.keys())))\n",
    "       "
   ]
  },
  {
   "cell_type": "code",
   "execution_count": 10,
   "metadata": {},
   "outputs": [
    {
     "name": "stdout",
     "output_type": "stream",
     "text": [
      "Введите команду:p\n",
      "Введите номер документа:10006\n",
      "Владелец документа: Аристарх Павлов\n",
      "Введите команду:s\n",
      "Введите номер документа:10006\n",
      "Документ хранится на полке 2\n",
      "Введите команду:l\n",
      "Документ хранится на полке 1\n",
      "№:2207 876234, тип: passport, владелец: Василий Гупкин, полка хранения: 1\n",
      "Документ хранится на полке 1\n",
      "№:11-2, тип: invoice, владелец: Геннадий Покемонов, полка хранения: 1\n",
      "Документ хранится на полке 2\n",
      "№:10006, тип: insurance, владелец: Аристарх Павлов, полка хранения: 2\n",
      "Введите команду:as\n",
      "Введите номер полки:9\n",
      "Полка добавлена. Текущий перечень полок: 1 2 3 9\n",
      "Введите команду:as\n",
      "Введите номер полки:9\n",
      "Такая полка уже существует.Текущий перечень полок: 1 2 3 9\n",
      "Введите команду:ds\n",
      "Введите номер полки:9\n",
      "Полка удалена. Текущий перечень полок: 1 2 3\n",
      "Введите команду:q\n"
     ]
    }
   ],
   "source": [
    "def main():\n",
    "    while True:\n",
    "        user_input = input('Введите команду:')\n",
    "        if user_input == 'p':\n",
    "            owner_number = input('Введите номер документа:')\n",
    "            owner_document(owner_number)\n",
    "        elif user_input == 's':\n",
    "            shelf_number = input('Введите номер документа:')\n",
    "            number_directories(shelf_number)\n",
    "        elif user_input == 'l':\n",
    "            ioio()\n",
    "        elif user_input == 'as':\n",
    "            number_shelf = input('Введите номер полки:')\n",
    "            add_shelf(number_shelf)\n",
    "        elif user_input == 'ds':\n",
    "            number_shelf = input('Введите номер полки:')\n",
    "            del_shelf(number_shelf)\n",
    "        elif user_input == 'q':\n",
    "            break\n",
    "            \n",
    "main()"
   ]
  },
  {
   "cell_type": "code",
   "execution_count": null,
   "metadata": {},
   "outputs": [],
   "source": []
  }
 ],
 "metadata": {
  "kernelspec": {
   "display_name": "Python 3",
   "language": "python",
   "name": "python3"
  },
  "language_info": {
   "codemirror_mode": {
    "name": "ipython",
    "version": 3
   },
   "file_extension": ".py",
   "mimetype": "text/x-python",
   "name": "python",
   "nbconvert_exporter": "python",
   "pygments_lexer": "ipython3",
   "version": "3.8.5"
  }
 },
 "nbformat": 4,
 "nbformat_minor": 4
}
