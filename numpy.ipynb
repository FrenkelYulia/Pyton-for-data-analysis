{
 "cells": [
  {
   "cell_type": "code",
   "execution_count": 10,
   "metadata": {},
   "outputs": [
    {
     "name": "stdout",
     "output_type": "stream",
     "text": [
      "Введите число:7\n",
      "[6 5 4 3 2 1 0]\n"
     ]
    }
   ],
   "source": [
    "#Задание 1\n",
    "'''Создайте numpy array с элементами от числа N до 0 (например, для N = 10 это будет array([9, 8, 7, 6, 5, 4, 3, 2, 1, 0])).'''\n",
    "import numpy as np\n",
    "n = input('Введите число:')\n",
    "a = np.arange(0, int(n))\n",
    "b = a [::-1]\n",
    "print (b)"
   ]
  },
  {
   "cell_type": "code",
   "execution_count": 18,
   "metadata": {},
   "outputs": [
    {
     "name": "stdout",
     "output_type": "stream",
     "text": [
      "Введите число:9\n",
      "[[8 0 0 0 0 0 0 0 0]\n",
      " [0 7 0 0 0 0 0 0 0]\n",
      " [0 0 6 0 0 0 0 0 0]\n",
      " [0 0 0 5 0 0 0 0 0]\n",
      " [0 0 0 0 4 0 0 0 0]\n",
      " [0 0 0 0 0 3 0 0 0]\n",
      " [0 0 0 0 0 0 2 0 0]\n",
      " [0 0 0 0 0 0 0 1 0]\n",
      " [0 0 0 0 0 0 0 0 0]]\n"
     ]
    },
    {
     "data": {
      "text/plain": [
       "36"
      ]
     },
     "execution_count": 18,
     "metadata": {},
     "output_type": "execute_result"
    }
   ],
   "source": [
    "#Задание 2\n",
    "'''Создайте диагональную матрицу с элементами от N до 0. Посчитайте сумму ее значений на диагонали.'''\n",
    "k = input('Введите число:')\n",
    "c = np.arange(0, int(k))\n",
    "d = c [::-1]\n",
    "m= np.diag(d)\n",
    "print(m)\n",
    "np.trace(m)"
   ]
  },
  {
   "cell_type": "code",
   "execution_count": 22,
   "metadata": {},
   "outputs": [
    {
     "name": "stdout",
     "output_type": "stream",
     "text": [
      "[ 0.46666667  3.84444444 -5.55555556]\n"
     ]
    },
    {
     "data": {
      "text/plain": [
       "True"
      ]
     },
     "execution_count": 22,
     "metadata": {},
     "output_type": "execute_result"
    }
   ],
   "source": [
    "#Задание 3\n",
    "'''Решите систему уравнений:\n",
    "4x + 2y + z = 4\n",
    "x + 3y = 12\n",
    "5y + 4z = -3'''\n",
    "a = np.array( [ [4, 2, 1], [1, 3, 0], [0, 5, 4 ] ] ) # коэффициенты при переменных в левой части уравнения\n",
    "b = np.array( [4, 12, -3] ) # значения в правой части уравнения\n",
    "from numpy import linalg\n",
    "print(linalg.solve(a, b)) # решение\n",
    "np.allclose( np.dot(a, linalg.solve(a, b)), b ) # проверка верности"
   ]
  },
  {
   "cell_type": "code",
   "execution_count": 5,
   "metadata": {},
   "outputs": [],
   "source": [
    "#Задание 4\n",
    "'''Имеется матрица покупок в интернет-магазине. Столбец А - ID пользователя. \n",
    "Остальные столбцы - количество покупок категорий товаров этим пользователем. На сайт заходит очередной посетитель.\n",
    "Найдите самого похожего пользователя. \n",
    "Т. е. посчитайте косинусное сходство между этим пользователем и всеми пользователями из массива user_stats'''\n",
    "users_stats = np.array(\n",
    "    [\n",
    "        [2, 1, 0, 0, 0, 0],\n",
    "        [1, 1, 2, 1, 0, 0],\n",
    "        [2, 0, 1, 0, 0, 0],\n",
    "        [1, 1, 2, 1, 0, 1],\n",
    "        [0, 0, 1, 2, 0, 0],\n",
    "        [0, 0, 0, 0, 0, 5],\n",
    "        [1, 0, 0, 0, 0, 0],\n",
    "        [0, 1, 1, 0, 0, 0],\n",
    "        [0, 0, 0, 1, 1, 3],\n",
    "        [1, 0, 0, 2, 1, 4]\n",
    "    ], \n",
    "    np.int32\n",
    ")\n",
    "next_user_stats = np.array([0, 1, 2, 0, 0, 0])\n"
   ]
  },
  {
   "cell_type": "code",
   "execution_count": 6,
   "metadata": {},
   "outputs": [],
   "source": [
    "def cosine( a, b ):\n",
    "    \"\"\"\n",
    "    Подсчет косинуса угла между векторами a, b по их координатам\n",
    "    \"\"\" \n",
    "    # длины векторов\n",
    "    aLength = np.linalg.norm( a )\n",
    "    bLength = np.linalg.norm( b )\n",
    "    \n",
    "    return np.dot( a, b ) / ( aLength * bLength )"
   ]
  },
  {
   "cell_type": "code",
   "execution_count": 19,
   "metadata": {},
   "outputs": [
    {
     "name": "stdout",
     "output_type": "stream",
     "text": [
      "самый  похожий пользователь с User ID 8\n"
     ]
    }
   ],
   "source": [
    "max_=0\n",
    "for i, row in enumerate(users_stats,1):\n",
    "    k = cosine(row, next_user_stats)\n",
    "    if k > max_:\n",
    "        max_ = k\n",
    "        max_i = i\n",
    "\n",
    "#res = max([cosine(row, next_user_stats) for row users_stats]) \n",
    "\n",
    "print(f'самый  похожий пользователь с User ID {max_i}')"
   ]
  },
  {
   "cell_type": "code",
   "execution_count": null,
   "metadata": {},
   "outputs": [],
   "source": []
  }
 ],
 "metadata": {
  "kernelspec": {
   "display_name": "Python 3",
   "language": "python",
   "name": "python3"
  },
  "language_info": {
   "codemirror_mode": {
    "name": "ipython",
    "version": 3
   },
   "file_extension": ".py",
   "mimetype": "text/x-python",
   "name": "python",
   "nbconvert_exporter": "python",
   "pygments_lexer": "ipython3",
   "version": "3.8.5"
  }
 },
 "nbformat": 4,
 "nbformat_minor": 4
}
